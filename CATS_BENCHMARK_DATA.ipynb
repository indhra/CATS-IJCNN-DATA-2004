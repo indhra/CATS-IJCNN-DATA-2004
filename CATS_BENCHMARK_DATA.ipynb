{
 "cells": [
  {
   "cell_type": "code",
   "execution_count": 27,
   "metadata": {},
   "outputs": [
    {
     "data": {
      "text/html": [
       "<div>\n",
       "<style scoped>\n",
       "    .dataframe tbody tr th:only-of-type {\n",
       "        vertical-align: middle;\n",
       "    }\n",
       "\n",
       "    .dataframe tbody tr th {\n",
       "        vertical-align: top;\n",
       "    }\n",
       "\n",
       "    .dataframe thead th {\n",
       "        text-align: right;\n",
       "    }\n",
       "</style>\n",
       "<table border=\"1\" class=\"dataframe\">\n",
       "  <thead>\n",
       "    <tr style=\"text-align: right;\">\n",
       "      <th></th>\n",
       "      <th>V1</th>\n",
       "      <th>V2</th>\n",
       "      <th>V3</th>\n",
       "      <th>V4</th>\n",
       "      <th>V5</th>\n",
       "    </tr>\n",
       "  </thead>\n",
       "  <tbody>\n",
       "    <tr>\n",
       "      <td>0</td>\n",
       "      <td>-2.85</td>\n",
       "      <td>150.21</td>\n",
       "      <td>328.40</td>\n",
       "      <td>2.00</td>\n",
       "      <td>290.28</td>\n",
       "    </tr>\n",
       "    <tr>\n",
       "      <td>1</td>\n",
       "      <td>-13.07</td>\n",
       "      <td>136.41</td>\n",
       "      <td>311.23</td>\n",
       "      <td>5.11</td>\n",
       "      <td>298.11</td>\n",
       "    </tr>\n",
       "    <tr>\n",
       "      <td>2</td>\n",
       "      <td>-17.81</td>\n",
       "      <td>126.87</td>\n",
       "      <td>312.86</td>\n",
       "      <td>5.40</td>\n",
       "      <td>286.62</td>\n",
       "    </tr>\n",
       "    <tr>\n",
       "      <td>3</td>\n",
       "      <td>-27.81</td>\n",
       "      <td>128.68</td>\n",
       "      <td>302.26</td>\n",
       "      <td>28.68</td>\n",
       "      <td>289.06</td>\n",
       "    </tr>\n",
       "    <tr>\n",
       "      <td>4</td>\n",
       "      <td>-20.51</td>\n",
       "      <td>124.60</td>\n",
       "      <td>293.69</td>\n",
       "      <td>21.65</td>\n",
       "      <td>277.59</td>\n",
       "    </tr>\n",
       "    <tr>\n",
       "      <td>...</td>\n",
       "      <td>...</td>\n",
       "      <td>...</td>\n",
       "      <td>...</td>\n",
       "      <td>...</td>\n",
       "      <td>...</td>\n",
       "    </tr>\n",
       "    <tr>\n",
       "      <td>975</td>\n",
       "      <td>73.81</td>\n",
       "      <td>412.93</td>\n",
       "      <td>86.44</td>\n",
       "      <td>230.00</td>\n",
       "      <td>-63.42</td>\n",
       "    </tr>\n",
       "    <tr>\n",
       "      <td>976</td>\n",
       "      <td>78.18</td>\n",
       "      <td>412.90</td>\n",
       "      <td>99.95</td>\n",
       "      <td>263.25</td>\n",
       "      <td>-74.76</td>\n",
       "    </tr>\n",
       "    <tr>\n",
       "      <td>977</td>\n",
       "      <td>83.72</td>\n",
       "      <td>419.95</td>\n",
       "      <td>91.94</td>\n",
       "      <td>266.00</td>\n",
       "      <td>-76.97</td>\n",
       "    </tr>\n",
       "    <tr>\n",
       "      <td>978</td>\n",
       "      <td>101.70</td>\n",
       "      <td>387.19</td>\n",
       "      <td>106.91</td>\n",
       "      <td>258.77</td>\n",
       "      <td>-58.05</td>\n",
       "    </tr>\n",
       "    <tr>\n",
       "      <td>979</td>\n",
       "      <td>109.40</td>\n",
       "      <td>397.27</td>\n",
       "      <td>87.21</td>\n",
       "      <td>263.91</td>\n",
       "      <td>-65.37</td>\n",
       "    </tr>\n",
       "  </tbody>\n",
       "</table>\n",
       "<p>980 rows × 5 columns</p>\n",
       "</div>"
      ],
      "text/plain": [
       "         V1      V2      V3      V4      V5\n",
       "0     -2.85  150.21  328.40    2.00  290.28\n",
       "1    -13.07  136.41  311.23    5.11  298.11\n",
       "2    -17.81  126.87  312.86    5.40  286.62\n",
       "3    -27.81  128.68  302.26   28.68  289.06\n",
       "4    -20.51  124.60  293.69   21.65  277.59\n",
       "..      ...     ...     ...     ...     ...\n",
       "975   73.81  412.93   86.44  230.00  -63.42\n",
       "976   78.18  412.90   99.95  263.25  -74.76\n",
       "977   83.72  419.95   91.94  266.00  -76.97\n",
       "978  101.70  387.19  106.91  258.77  -58.05\n",
       "979  109.40  397.27   87.21  263.91  -65.37\n",
       "\n",
       "[980 rows x 5 columns]"
      ]
     },
     "execution_count": 27,
     "metadata": {},
     "output_type": "execute_result"
    }
   ],
   "source": [
    "import os\n",
    "import pandas as pd\n",
    "import rpy2.robjects as robjects\n",
    "from rpy2.robjects import pandas2ri    \n",
    "from rpy2.robjects.packages import importr\n",
    "from rpy2.robjects import default_converter\n",
    "from rpy2.robjects.conversion import localconverter\n",
    "\n",
    "import sys \n",
    "if \"../\" not in sys.path:\n",
    "  sys.path.append(\"../\")\n",
    "\n",
    "pandas2ri.activate()\n",
    "\n",
    "base = importr('base')\n",
    "base.load(\"CATS.rda\")    \n",
    "rdf_List = base.mget(base.ls())\n",
    "\n",
    "# ITERATE THROUGH LIST OF R DFs \n",
    "pydf_dict = {}\n",
    "\n",
    "for i,f in enumerate(base.names(rdf_List)):\n",
    "    pydf_dict[f] = pandas2ri.ri2py_dataframe(rdf_List[i])\n",
    "\n",
    "for k,v in pydf_dict.items():\n",
    "    (v.head())\n",
    "       \n",
    "\n",
    "with localconverter(default_converter + pandas2ri.converter) as cv:\n",
    "    dataf = robjects.r['CATS']\n",
    "\n",
    "dataf"
   ]
  },
  {
   "cell_type": "code",
   "execution_count": 34,
   "metadata": {},
   "outputs": [
    {
     "data": {
      "text/html": [
       "<div>\n",
       "<style scoped>\n",
       "    .dataframe tbody tr th:only-of-type {\n",
       "        vertical-align: middle;\n",
       "    }\n",
       "\n",
       "    .dataframe tbody tr th {\n",
       "        vertical-align: top;\n",
       "    }\n",
       "\n",
       "    .dataframe thead th {\n",
       "        text-align: right;\n",
       "    }\n",
       "</style>\n",
       "<table border=\"1\" class=\"dataframe\">\n",
       "  <thead>\n",
       "    <tr style=\"text-align: right;\">\n",
       "      <th></th>\n",
       "      <th>V1</th>\n",
       "      <th>V2</th>\n",
       "      <th>V3</th>\n",
       "      <th>V4</th>\n",
       "      <th>V5</th>\n",
       "    </tr>\n",
       "  </thead>\n",
       "  <tbody>\n",
       "    <tr>\n",
       "      <td>0</td>\n",
       "      <td>121.22</td>\n",
       "      <td>396.94</td>\n",
       "      <td>72.10</td>\n",
       "      <td>276.00</td>\n",
       "      <td>-85.15</td>\n",
       "    </tr>\n",
       "    <tr>\n",
       "      <td>1</td>\n",
       "      <td>99.28</td>\n",
       "      <td>390.35</td>\n",
       "      <td>55.51</td>\n",
       "      <td>289.74</td>\n",
       "      <td>-109.04</td>\n",
       "    </tr>\n",
       "    <tr>\n",
       "      <td>2</td>\n",
       "      <td>97.96</td>\n",
       "      <td>386.31</td>\n",
       "      <td>57.00</td>\n",
       "      <td>284.29</td>\n",
       "      <td>-97.99</td>\n",
       "    </tr>\n",
       "    <tr>\n",
       "      <td>3</td>\n",
       "      <td>115.03</td>\n",
       "      <td>358.33</td>\n",
       "      <td>59.79</td>\n",
       "      <td>297.47</td>\n",
       "      <td>-75.47</td>\n",
       "    </tr>\n",
       "    <tr>\n",
       "      <td>4</td>\n",
       "      <td>122.23</td>\n",
       "      <td>350.99</td>\n",
       "      <td>27.77</td>\n",
       "      <td>315.23</td>\n",
       "      <td>-65.36</td>\n",
       "    </tr>\n",
       "    <tr>\n",
       "      <td>5</td>\n",
       "      <td>107.28</td>\n",
       "      <td>350.85</td>\n",
       "      <td>20.90</td>\n",
       "      <td>328.74</td>\n",
       "      <td>-83.27</td>\n",
       "    </tr>\n",
       "    <tr>\n",
       "      <td>6</td>\n",
       "      <td>119.00</td>\n",
       "      <td>370.85</td>\n",
       "      <td>12.36</td>\n",
       "      <td>292.86</td>\n",
       "      <td>-82.38</td>\n",
       "    </tr>\n",
       "    <tr>\n",
       "      <td>7</td>\n",
       "      <td>121.25</td>\n",
       "      <td>352.41</td>\n",
       "      <td>26.62</td>\n",
       "      <td>286.03</td>\n",
       "      <td>-63.11</td>\n",
       "    </tr>\n",
       "    <tr>\n",
       "      <td>8</td>\n",
       "      <td>114.96</td>\n",
       "      <td>352.75</td>\n",
       "      <td>16.57</td>\n",
       "      <td>287.53</td>\n",
       "      <td>-52.90</td>\n",
       "    </tr>\n",
       "    <tr>\n",
       "      <td>9</td>\n",
       "      <td>105.99</td>\n",
       "      <td>362.64</td>\n",
       "      <td>14.90</td>\n",
       "      <td>293.56</td>\n",
       "      <td>-58.97</td>\n",
       "    </tr>\n",
       "    <tr>\n",
       "      <td>10</td>\n",
       "      <td>116.63</td>\n",
       "      <td>358.75</td>\n",
       "      <td>15.69</td>\n",
       "      <td>286.58</td>\n",
       "      <td>-36.25</td>\n",
       "    </tr>\n",
       "    <tr>\n",
       "      <td>11</td>\n",
       "      <td>126.96</td>\n",
       "      <td>359.13</td>\n",
       "      <td>8.09</td>\n",
       "      <td>273.86</td>\n",
       "      <td>-41.53</td>\n",
       "    </tr>\n",
       "    <tr>\n",
       "      <td>12</td>\n",
       "      <td>123.88</td>\n",
       "      <td>353.33</td>\n",
       "      <td>30.57</td>\n",
       "      <td>280.81</td>\n",
       "      <td>-43.90</td>\n",
       "    </tr>\n",
       "    <tr>\n",
       "      <td>13</td>\n",
       "      <td>123.40</td>\n",
       "      <td>346.01</td>\n",
       "      <td>48.10</td>\n",
       "      <td>292.41</td>\n",
       "      <td>-39.69</td>\n",
       "    </tr>\n",
       "    <tr>\n",
       "      <td>14</td>\n",
       "      <td>117.93</td>\n",
       "      <td>334.60</td>\n",
       "      <td>50.27</td>\n",
       "      <td>296.07</td>\n",
       "      <td>-12.56</td>\n",
       "    </tr>\n",
       "    <tr>\n",
       "      <td>15</td>\n",
       "      <td>133.01</td>\n",
       "      <td>333.11</td>\n",
       "      <td>21.98</td>\n",
       "      <td>296.53</td>\n",
       "      <td>-18.74</td>\n",
       "    </tr>\n",
       "    <tr>\n",
       "      <td>16</td>\n",
       "      <td>134.97</td>\n",
       "      <td>353.88</td>\n",
       "      <td>16.48</td>\n",
       "      <td>283.20</td>\n",
       "      <td>-7.98</td>\n",
       "    </tr>\n",
       "    <tr>\n",
       "      <td>17</td>\n",
       "      <td>159.68</td>\n",
       "      <td>328.24</td>\n",
       "      <td>27.61</td>\n",
       "      <td>301.28</td>\n",
       "      <td>10.56</td>\n",
       "    </tr>\n",
       "    <tr>\n",
       "      <td>18</td>\n",
       "      <td>140.49</td>\n",
       "      <td>332.40</td>\n",
       "      <td>26.74</td>\n",
       "      <td>311.84</td>\n",
       "      <td>35.95</td>\n",
       "    </tr>\n",
       "    <tr>\n",
       "      <td>19</td>\n",
       "      <td>144.63</td>\n",
       "      <td>328.00</td>\n",
       "      <td>27.87</td>\n",
       "      <td>311.11</td>\n",
       "      <td>0.00</td>\n",
       "    </tr>\n",
       "  </tbody>\n",
       "</table>\n",
       "</div>"
      ],
      "text/plain": [
       "        V1      V2     V3      V4      V5\n",
       "0   121.22  396.94  72.10  276.00  -85.15\n",
       "1    99.28  390.35  55.51  289.74 -109.04\n",
       "2    97.96  386.31  57.00  284.29  -97.99\n",
       "3   115.03  358.33  59.79  297.47  -75.47\n",
       "4   122.23  350.99  27.77  315.23  -65.36\n",
       "5   107.28  350.85  20.90  328.74  -83.27\n",
       "6   119.00  370.85  12.36  292.86  -82.38\n",
       "7   121.25  352.41  26.62  286.03  -63.11\n",
       "8   114.96  352.75  16.57  287.53  -52.90\n",
       "9   105.99  362.64  14.90  293.56  -58.97\n",
       "10  116.63  358.75  15.69  286.58  -36.25\n",
       "11  126.96  359.13   8.09  273.86  -41.53\n",
       "12  123.88  353.33  30.57  280.81  -43.90\n",
       "13  123.40  346.01  48.10  292.41  -39.69\n",
       "14  117.93  334.60  50.27  296.07  -12.56\n",
       "15  133.01  333.11  21.98  296.53  -18.74\n",
       "16  134.97  353.88  16.48  283.20   -7.98\n",
       "17  159.68  328.24  27.61  301.28   10.56\n",
       "18  140.49  332.40  26.74  311.84   35.95\n",
       "19  144.63  328.00  27.87  311.11    0.00"
      ]
     },
     "execution_count": 34,
     "metadata": {},
     "output_type": "execute_result"
    }
   ],
   "source": [
    "import os\n",
    "import pandas as pd\n",
    "import rpy2.robjects as robjects\n",
    "from rpy2.robjects import pandas2ri    \n",
    "from rpy2.robjects.packages import importr\n",
    "from rpy2.robjects import default_converter\n",
    "from rpy2.robjects.conversion import localconverter\n",
    "\n",
    "import sys \n",
    "if \"../\" not in sys.path:\n",
    "  sys.path.append(\"../\")\n",
    "\n",
    "pandas2ri.activate()\n",
    "\n",
    "base = importr('base')\n",
    "base.load(\"CATS.cont.rda\")    \n",
    "rdf_List = base.mget(base.ls())\n",
    "\n",
    "# ITERATE THROUGH LIST OF R DFs \n",
    "pydf_dict = {}\n",
    "\n",
    "for i,f in enumerate(base.names(rdf_List)):\n",
    "    pydf_dict[f] = pandas2ri.ri2py_dataframe(rdf_List[i])\n",
    "\n",
    "for k,v in pydf_dict.items():\n",
    "    (v.head())\n",
    "       \n",
    "\n",
    "with localconverter(default_converter + pandas2ri.converter) as cv:\n",
    "    dataf1 = robjects.r['CATS.cont']\n",
    "\n",
    "dataf1"
   ]
  },
  {
   "cell_type": "code",
   "execution_count": 35,
   "metadata": {},
   "outputs": [],
   "source": [
    "df=dataf"
   ]
  },
  {
   "cell_type": "code",
   "execution_count": 36,
   "metadata": {},
   "outputs": [
    {
     "data": {
      "text/plain": [
       "<matplotlib.axes._subplots.AxesSubplot at 0x25186bdf908>"
      ]
     },
     "execution_count": 36,
     "metadata": {},
     "output_type": "execute_result"
    },
    {
     "data": {
      "image/png": "[encoded data removed]",
      "text/plain": [
       "<Figure size 432x288 with 1 Axes>"
      ]
     },
     "metadata": {
      "needs_background": "light"
     },
     "output_type": "display_data"
    }
   ],
   "source": [
    "import matplotlib.pyplot as plt\n",
    "ax=plt.gca()\n",
    "df=dataf\n",
    "df.plot(kind='line',y='V1',ax=ax)"
   ]
  },
  {
   "cell_type": "code",
   "execution_count": 37,
   "metadata": {},
   "outputs": [
    {
     "data": {
      "text/plain": [
       "<matplotlib.axes._subplots.AxesSubplot at 0x2518636b908>"
      ]
     },
     "execution_count": 37,
     "metadata": {},
     "output_type": "execute_result"
    },
    {
     "data": {
      "image/png": "[encoded data removed]",
      "text/plain": [
       "<Figure size 432x288 with 1 Axes>"
      ]
     },
     "metadata": {
      "needs_background": "light"
     },
     "output_type": "display_data"
    }
   ],
   "source": [
    "ax=plt.gca()\n",
    "df=dataf\n",
    "df.plot(kind='line',y='V2',color='red',ax=ax)"
   ]
  },
  {
   "cell_type": "code",
   "execution_count": 38,
   "metadata": {},
   "outputs": [
    {
     "data": {
      "text/plain": [
       "<matplotlib.axes._subplots.AxesSubplot at 0x25186d3d9c8>"
      ]
     },
     "execution_count": 38,
     "metadata": {},
     "output_type": "execute_result"
    },
    {
     "data": {
      "image/png": "[encoded data removed]",
      "text/plain": [
       "<Figure size 432x288 with 1 Axes>"
      ]
     },
     "metadata": {
      "needs_background": "light"
     },
     "output_type": "display_data"
    }
   ],
   "source": [
    "ax=plt.gca()\n",
    "df=dataf\n",
    "df.plot(kind='line',y='V3',color='black',ax=ax)"
   ]
  },
  {
   "cell_type": "code",
   "execution_count": 39,
   "metadata": {},
   "outputs": [
    {
     "data": {
      "text/plain": [
       "<matplotlib.axes._subplots.AxesSubplot at 0x251863ab448>"
      ]
     },
     "execution_count": 39,
     "metadata": {},
     "output_type": "execute_result"
    },
    {
     "data": {
      "image/png": "[encoded data removed]",
      "text/plain": [
       "<Figure size 432x288 with 1 Axes>"
      ]
     },
     "metadata": {
      "needs_background": "light"
     },
     "output_type": "display_data"
    }
   ],
   "source": [
    "ax=plt.gca()\n",
    "df=dataf\n",
    "df.plot(kind='line',y='V4',color='pink',ax=ax)"
   ]
  },
  {
   "cell_type": "code",
   "execution_count": 40,
   "metadata": {},
   "outputs": [
    {
     "data": {
      "text/plain": [
       "0       -2.85\n",
       "1      -13.07\n",
       "2      -17.81\n",
       "3      -27.81\n",
       "4      -20.51\n",
       "        ...  \n",
       "4895   -63.42\n",
       "4896   -74.76\n",
       "4897   -76.97\n",
       "4898   -58.05\n",
       "4899   -65.37\n",
       "Length: 4900, dtype: float64"
      ]
     },
     "execution_count": 40,
     "metadata": {},
     "output_type": "execute_result"
    }
   ],
   "source": [
    "dfff=pd.Series(df.values.ravel('F')) # converting into one single list/column\n",
    "dfff"
   ]
  },
  {
   "cell_type": "code",
   "execution_count": 42,
   "metadata": {},
   "outputs": [
    {
     "data": {
      "text/plain": [
       "<matplotlib.axes._subplots.AxesSubplot at 0x25185301ac8>"
      ]
     },
     "execution_count": 42,
     "metadata": {},
     "output_type": "execute_result"
    },
    {
     "data": {
      "image/png": "[encoded data removed]",
      "text/plain": [
       "<Figure size 720x432 with 1 Axes>"
      ]
     },
     "metadata": {
      "needs_background": "light"
     },
     "output_type": "display_data"
    }
   ],
   "source": [
    "ax=plt.gca()\n",
    "df=dataf\n",
    "dfff.plot(kind='line',color='blue',ax=ax,figsize=(10,6))"
   ]
  },
  {
   "cell_type": "code",
   "execution_count": 43,
   "metadata": {},
   "outputs": [],
   "source": [
    "from pandas import DataFrame\n",
    "\n",
    "# df.to_csv(r'CATS_FIVE_COLUMN_DATA.csv', header=True)\n",
    "\n",
    "# dfff.to_csv(r'CATS_TWO_COLUMN_DATA.csv', header=True)\n",
    "\n",
    "dataf1.to_csv(r'CATS_TRUE_VALUES.csv', header=True)"
   ]
  }
 ],
 "metadata": {
  "kernelspec": {
   "display_name": "Python 3",
   "language": "python",
   "name": "python3"
  },
  "language_info": {
   "codemirror_mode": {
    "name": "ipython",
    "version": 3
   },
   "file_extension": ".py",
   "mimetype": "text/x-python",
   "name": "python",
   "nbconvert_exporter": "python",
   "pygments_lexer": "ipython3",
   "version": "3.7.4"
  }
 },
 "nbformat": 4,
 "nbformat_minor": 2
}
